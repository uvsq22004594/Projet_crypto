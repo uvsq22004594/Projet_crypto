{
 "cells": [
  {
   "cell_type": "markdown",
   "metadata": {},
   "source": [
    "# Cryptanalyse\n",
    "\n",
    "Votre mission, si vous l'acceptez, est de déchiffrer 4 textes de difficulté croissante en vous aidant d'un programme python que vous allez écrire.\n",
    "\n",
    "\n",
    "- Les fichiers ont été cryptés avec des méthodes données en cours.\n",
    "- Les fichiers chiffrés contiennent des textes en ASCII. Une fois déchiffrés ils vous donneront des informations.\n",
    "- Vous devez vous baser sur les fréquences d'apparition des lettres en français (et des paires de lettres) pour casser les codes. Faire une fonction de calcul pour vous aider.\n",
    "- Penser à réutliser le code du td de cryptographie comme base de travail.\n",
    "- Le code de votre programme doit être sur github et vous fournirez un lien vers votre projet github avec le code et le résultat du décodage\n",
    "en le déposant sur Moodle avant le mercredi 12 mai.\n",
    "- Une soutenance sera organisée le 17 mai.\n",
    "\n",
    "\n"
   ]
  },
  {
   "cell_type": "markdown",
   "metadata": {},
   "source": [
    "## Premier texte à décoder \n",
    "\n",
    "Ce premier texte a été chiffré à l'aide d'un décalage. Celui-ci a été appliqué à toutes les lettres, la clé est donc de taille unique.Nous savons que le message original est en langue française. Il nous suffit donc de faire une simple analyse fréquentielle sur l'apparition des lettres, ce qui nous permettra de trouver la clé de déchiffrage."
   ]
  },
  {
   "cell_type": "code",
   "execution_count": 7,
   "metadata": {},
   "outputs": [],
   "source": [
    "txt1_chiffre = \"kd oqnbgzhm ehbghdq ztqz tm bncd ozq rtarshstshnm zkogzadshptd: bgzptd kdssqd drs qdlokzbdd ozq tmd ztsqd. tshkhrdq kz eqdptdmbd cdr kdssqdr ontq cdbncdq kd ldrrzfd.\""
   ]
  },
  {
   "cell_type": "markdown",
   "metadata": {},
   "source": [
    "### Analyse\n",
    "Afin de récupérer la fréquence de chacune des lettres dans le texte, nous mettons en place la fonction \"frequence()\". Elle nous retourne un tableau contenant les 10 lettres ayant la fréquence la plus élevée. Ce tableau est trié par ordre décroissant des fréquences pour faciliter la lecture."
   ]
  },
  {
   "cell_type": "code",
   "execution_count": 8,
   "metadata": {},
   "outputs": [],
   "source": [
    "def frequence (message_chiffre):\n",
    "    resultat=[]\n",
    "    len_message = len(message_chiffre.strip().replace(\"'\", ''))\n",
    "    for c in message_chiffre:\n",
    "        if 97<= ord(c) <=122:\n",
    "            exist = True\n",
    "            for i in range (len(resultat)):\n",
    "                if resultat[i][0]==c:\n",
    "                    exist = False\n",
    "                    resultat[i][1]+= round(1/len_message*100,2)\n",
    "            if exist:\n",
    "                resultat.append([c,round(1/len_message*100,2)])\n",
    "                        \n",
    "    return sorted(resultat, key=lambda x: x[1], reverse=True)[:10]\n"
   ]
  },
  {
   "cell_type": "markdown",
   "metadata": {},
   "source": [
    "Afin de consolider notre analyse, nous récupérons également la fréquence des n-gramme. Pour ce faire nous avons mis en place la fonction \"frequence_ngramme()\" similaire à la fonction précédente."
   ]
  },
  {
   "cell_type": "code",
   "execution_count": 15,
   "metadata": {},
   "outputs": [],
   "source": [
    "def frequence_ngramme (message_chiffre, ngramme):\n",
    "    resultat=[]\n",
    "    # on récupère les mots dans un tableau\n",
    "    liste_mots = message_chiffre.split(' ')\n",
    "    \n",
    "    # pour chaque mots on récupère la liste des ngrammes qui le constitue et leur fréquences\n",
    "    for mot in liste_mots:\n",
    "        if len(mot) >= ngramme:\n",
    "            for i in range( len(mot)- (ngramme-1) ):\n",
    "                exit = False\n",
    "                for c in mot[i:i+ngramme]:\n",
    "                    if 97>= ord(c) >=122:\n",
    "                        exit = True\n",
    "                if exit:\n",
    "                    continue\n",
    "                \n",
    "                exist = False\n",
    "                for j in range (len(resultat)):\n",
    "                    if resultat[j][0]==mot[i:i+ngramme]:\n",
    "                        exist = True\n",
    "                        resultat[j][1]+=1\n",
    "                if not exist:\n",
    "                    resultat.append([mot[i:i+ngramme],1])\n",
    "    for res in resultat:\n",
    "        res[1] = round(res[1]/len(resultat)*100,2)\n",
    "\n",
    "    return sorted(resultat, key=lambda x: x[1], reverse=True)[:10]"
   ]
  },
  {
   "cell_type": "markdown",
   "metadata": {},
   "source": [
    "Ici en réalisant une simple analyse de fréquence sur les lettres, nous remarquons que la lettre apparaissant le plus est \"D'\", avec une fréquence de 16% suivit par 'Q' et 'Z' avec 8% et 7%.\n",
    "\n",
    "Nous pouvons donc supposer que 'D' correspond à la lettre 'E'. Par ailleurs le texte commence par \"Kd\" donc si nos suppositions sont correctes 'D' correspond à 'E' donc 'K' devrait correspondre soit à 'L' ou à 'C' ce qui donnerait \"Le\" ou encore \"Ce\". La lettre 'D' étant peu probable car ce serait étrange que la phrase commence par \"De\"."
   ]
  },
  {
   "cell_type": "code",
   "execution_count": 16,
   "metadata": {},
   "outputs": [
    {
     "data": {
      "text/plain": [
       "[['d', 15.859999999999994],\n",
       " ['q', 7.9300000000000015],\n",
       " ['z', 7.320000000000001],\n",
       " ['t', 6.710000000000001],\n",
       " ['s', 6.710000000000001],\n",
       " ['k', 4.88],\n",
       " ['h', 4.88],\n",
       " ['r', 4.88],\n",
       " ['b', 4.27],\n",
       " ['o', 3.6599999999999997]]"
      ]
     },
     "execution_count": 16,
     "metadata": {},
     "output_type": "execute_result"
    }
   ],
   "source": [
    "frequence_lettre = frequence(txt1_chiffre)\n",
    "frequence_lettre"
   ]
  },
  {
   "cell_type": "markdown",
   "metadata": {},
   "source": [
    "Comme dit précédemment nous allons consolider notre analyse avec l'analyse fréquentielle des bi-grammes. Ici nous pouvons voir que le bi-gramme le plus présent est \"QD'\" suivi de \"KD'\". \n",
    "\n",
    "Dans la langue française les bi-grammmes les plus fréquents sont \"ES\" et \"LE\" ce qui pourrait valider notre hypothèse à savoir 'D'='E' et 'K'='L'."
   ]
  },
  {
   "cell_type": "code",
   "execution_count": 17,
   "metadata": {
    "scrolled": true
   },
   "outputs": [
    {
     "data": {
      "text/plain": [
       "[['qd', 6.94],\n",
       " ['kd', 5.56],\n",
       " ['cd', 5.56],\n",
       " ['sh', 5.56],\n",
       " ['dr', 5.56],\n",
       " ['bg', 4.17],\n",
       " ['gz', 4.17],\n",
       " ['dq', 4.17],\n",
       " ['ts', 4.17],\n",
       " ['ds', 4.17]]"
      ]
     },
     "execution_count": 17,
     "metadata": {},
     "output_type": "execute_result"
    }
   ],
   "source": [
    "frequence_bigramme = frequence_ngramme(txt1_chiffre, 2)\n",
    "frequence_bigramme"
   ]
  },
  {
   "cell_type": "markdown",
   "metadata": {},
   "source": [
    "Ces deux fonctions vont nous permettre de calculer le décalage entre les lettres chiffrées et les lettres originales. Cela nous permettra par la suite d'avoir la lettre permettant le déchiffrage."
   ]
  },
  {
   "cell_type": "code",
   "execution_count": 87,
   "metadata": {},
   "outputs": [],
   "source": [
    "def rang(lettre):\n",
    "    return ord(lettre)-97\n",
    "\n",
    "def lettre(rang):\n",
    "    return chr(rang+97)\n",
    "\n",
    "def calcul_decalage(lt_source, lt_target):\n",
    "    decalage = rang(lt_target) - rang(lt_source)\n",
    "    \n",
    "    # une lettre avec un indice negatif n'existe pas  \n",
    "    # nous ajoutons donc 25 afin d'avoir la lettre permettant le decalage\n",
    "    if(decalage < 0):\n",
    "        decalage += 26\n",
    "    \n",
    "    return decalage"
   ]
  },
  {
   "cell_type": "markdown",
   "metadata": {},
   "source": [
    "Ici nous pouvons voir que la lettre permettant le decalage de 'D' vers 'E' est 'B'"
   ]
  },
  {
   "cell_type": "code",
   "execution_count": 88,
   "metadata": {},
   "outputs": [
    {
     "name": "stdout",
     "output_type": "stream",
     "text": [
      "décalage de : 1 | lettre : b\n"
     ]
    }
   ],
   "source": [
    "decalage_d_e = calcul_decalage('d','e');\n",
    "print(\"décalage de : \" + str(decalage_d_e) + \" | lettre : \" + lettre(decalage_d_e))"
   ]
  },
  {
   "cell_type": "markdown",
   "metadata": {},
   "source": [
    "Ici nous pouvons voir que la lettre permettant le decalage de 'K' vers 'L' est aussi 'B'.\n",
    "Afin de valider définitivement notre hypothèse il nous faut appliquer cette clé au message entier."
   ]
  },
  {
   "cell_type": "code",
   "execution_count": 98,
   "metadata": {},
   "outputs": [
    {
     "name": "stdout",
     "output_type": "stream",
     "text": [
      "décalage de : 1 | lettre : b\n"
     ]
    }
   ],
   "source": [
    "decalage_k_l = calcul_decalage('k','l');\n",
    "print(\"décalage de : \" + str(decalage_k_l) + \" | lettre : \" + lettre(decalage_k_l))"
   ]
  },
  {
   "cell_type": "markdown",
   "metadata": {},
   "source": [
    "#### Fonctions permettant le déchiffrage :"
   ]
  },
  {
   "cell_type": "code",
   "execution_count": 100,
   "metadata": {},
   "outputs": [],
   "source": [
    "def decalage(lettre_message, lettre_cle):\n",
    "    if 97 <= ord(lettre_message) <=122 :\n",
    "        return chr((rang(lettre_message)+rang(lettre_cle))%26 + 97)\n",
    "    else :\n",
    "        return lettre_message\n",
    "\n",
    "def dec_texte(texte,cle):\n",
    "    taille_cle = len(cle)\n",
    "    res = \"\"\n",
    "    for i in range(len(texte)):\n",
    "        res += decalage(texte[i],cle[i%taille_cle])\n",
    "    return res\n",
    "\n",
    "def dechiffre(text, cle):\n",
    "    if((len(text)>0) and (len(cle)>0)):\n",
    "        res=dec_texte(text,cle)\n",
    "    else:\n",
    "        print(\"Il manque quelque chose\")\n",
    "        \n",
    "    print(\"Le message claire est: '\" + res + \"'\") \n"
   ]
  },
  {
   "cell_type": "code",
   "execution_count": 53,
   "metadata": {},
   "outputs": [
    {
     "name": "stdout",
     "output_type": "stream",
     "text": [
      "Le message claire est: 'le prochain fichier aura un code par substitution alphabetique: chaque lettre est remplacee par une autre. utiliser la frequence des lettres pour decoder le message.'\n"
     ]
    }
   ],
   "source": [
    "dechiffre(txt1_chiffre, 'b')"
   ]
  },
  {
   "cell_type": "markdown",
   "metadata": {},
   "source": [
    "## Second texte à décoder \n",
    "\n",
    "Grâce à l'indice du premier texte, nous savons que ce second texte a été chiffrés à l'aide de la substitution d'une partie ou de la totalité du vocabulaire.Nous savons que le message original est en langue française il nous suffit donc de faire une simple analyse fréquentielle sur l'apparition des lettres afin de pouvoir trouvé l'alphabet nous permettant de déchiffrer le message."
   ]
  },
  {
   "cell_type": "code",
   "execution_count": 54,
   "metadata": {},
   "outputs": [],
   "source": [
    "txt2_chiffre = \"gx qosvlnkd wkvlkxo xiu vscx qno yd fsu cx qniix cx unkggx kdvsddyx xu vsdukxdu g'kdckvx. gxi gxuuoxi cy fsu cx qniix qxofxuuxdu cx cxvngxo gxi gxuuoxi cy fxiinmx sokmkdng fscygs 26. ixygxi gxi gxuuoxi cx n n a isdu vlkwwoxxi.\""
   ]
  },
  {
   "cell_type": "markdown",
   "metadata": {},
   "source": [
    "### Analyse"
   ]
  },
  {
   "cell_type": "markdown",
   "metadata": {},
   "source": [
    "Ici en réalisant une simple analyse de fréquence sur les lettres nous remarquons que la lettre apparaissant le plus est 'X' avec près de 16% de fréquence suivit par 'I' et 'U' avec 7.5% et 7.5%.\n",
    "Nous pouvons donc supposer que 'X' correspond à la lettre 'E'. Par ailleurs le texte commence par \"Gx\" donc si nos suppositions sont correctes 'X' correspond à 'E' donc 'G' devrait correspondre soit à 'L', soit à 'C' ce qui donnerait \"Le\" ou encore \"Ce\". la lettre 'D' étant peu probable car ce serait étrange que la phrase commence par \"De\". De plus à de nombreuses reprises la lettre 'G' est utilisée avec une apostrophe, ce qui valide notre hypothèse à savoir 'G' = 'L'.\n",
    "Quant aux lettres 'I' et 'U' avec une fréquence de 7.48 % et utilisées dans un mots à 3 lettre \"xiu\" (en supposant que 'X'='E') nous pouvons facilement supposer que 'I' = 'S' et 'U' = 'T' ce qui donnerait \"est\"."
   ]
  },
  {
   "cell_type": "code",
   "execution_count": 55,
   "metadata": {},
   "outputs": [
    {
     "data": {
      "text/plain": [
       "[['x', 15.839999999999995],\n",
       " ['i', 7.480000000000003],\n",
       " ['u', 7.480000000000003],\n",
       " ['g', 6.160000000000002],\n",
       " ['k', 4.840000000000001],\n",
       " ['d', 4.840000000000001],\n",
       " ['c', 4.840000000000001],\n",
       " ['o', 4.4],\n",
       " ['s', 4.4],\n",
       " ['n', 4.4]]"
      ]
     },
     "execution_count": 55,
     "metadata": {},
     "output_type": "execute_result"
    }
   ],
   "source": [
    "frequence_lettre = frequence(txt2_chiffre)\n",
    "frequence_lettre"
   ]
  },
  {
   "cell_type": "markdown",
   "metadata": {},
   "source": [
    "Afin de consolider nos premières hypothèses nous avons effectué une analyse fréquentielle sur les bi-grammes. Ici nous pouvons voir que le bi-gramme le plus présent est 'GX' suivit de 'XI' avec 13.5%. Dans la langue française les bi-grammmes les plus fréquents sont \"ES\" et \"LE\" ce qui pourrait valider notre hypothèse à savoir 'X'='E' et 'G'='L' et 'I' = 'S'."
   ]
  },
  {
   "cell_type": "code",
   "execution_count": 65,
   "metadata": {
    "scrolled": true
   },
   "outputs": [
    {
     "data": {
      "text/plain": [
       "[['gx', 13.51],\n",
       " ['xi', 13.51],\n",
       " ['cx', 9.46],\n",
       " ['xu', 6.76],\n",
       " ['kd', 5.41],\n",
       " ['du', 5.41],\n",
       " ['uu', 5.41],\n",
       " ['ox', 5.41],\n",
       " ['vl', 4.05],\n",
       " ['xo', 4.05]]"
      ]
     },
     "execution_count": 65,
     "metadata": {},
     "output_type": "execute_result"
    }
   ],
   "source": [
    "frequence_bigramme = frequence_ngramme(txt2_chiffre, 2)\n",
    "frequence_bigramme"
   ]
  },
  {
   "cell_type": "markdown",
   "metadata": {},
   "source": [
    "De plus en comparant le premier texte avec le second, nous remarquons que les 3 premiers mots de ces deux textes semblent identiques (même taille), nous supposerons que le second texte débute avec les 3 mots suivants : \"le prochain fichier\".\n",
    "\n",
    "Cela nous donne donc les substituions suivantes :\n",
    "\n",
    "\"g x q o s v l n k d w k v l k x o\"\n",
    "\"l e p r o c h a i n f i c h i e r\"\n",
    "\n",
    "\n",
    "Afin d'avancer plus vite nous allons mettre en place un premier alphabet constitué des lettres que nous avons pu deviner jusqu'ici et 0 pour celle inconnue. Cela nous permettra de déchiffrer partiellement le message, et donc de nous faciliter le travaille par la suite.\n",
    "\n",
    "Notre alphabet de décryptage intermédiaire est donc le suivant : '000n00l0s0ih0ar0p0o0tcfe00'\n",
    "\n",
    "'0 0 0 n 0 0 l 0 s 0 i h 0 a r 0 p 0 o 0 t c f e 0 0'\n",
    "\n",
    "'a b c d e f g h i j k l m n o p q r s t u v w x y z '"
   ]
  },
  {
   "cell_type": "markdown",
   "metadata": {},
   "source": [
    "#### Fonctions permettant le déchiffrage :"
   ]
  },
  {
   "cell_type": "code",
   "execution_count": 63,
   "metadata": {},
   "outputs": [],
   "source": [
    "def substitution(lettre_message, cle):\n",
    "    if 97 <= ord(lettre_message) <=122 and 97 <= ord(cle[rang(lettre_message)]) <=122 :\n",
    "        return cle[rang(lettre_message)]\n",
    "    else :\n",
    "        return lettre_message\n",
    "\n",
    "def sub_texte(texte,cle):\n",
    "    taille_cle = len(cle)\n",
    "    res = \"\"\n",
    "    for i in range(len(texte)):\n",
    "        res += substitution(texte[i],cle)\n",
    "    return res\n",
    "\n",
    "def sub_dechiffre(text, cle):\n",
    "    if((len(text)>0) and (len(cle)==26)):\n",
    "        res=sub_texte(text,cle)\n",
    "    else:\n",
    "        print(\"Il manque quelque chose\")\n",
    "        \n",
    "    print(\"Le message claire est: '\" + res + \"'\") "
   ]
  },
  {
   "cell_type": "code",
   "execution_count": 68,
   "metadata": {},
   "outputs": [
    {
     "name": "stdout",
     "output_type": "stream",
     "text": [
      "Le message claire est: 'le prochain fichier est coce par yn fot ce passe ce taille inconnye et contient l'incice. les lettres cy fot ce passe perfettent ce cecaler les lettres cy fessame oriminal focylo 26. seyles les lettres ce a a a sont chiffrees.'\n"
     ]
    }
   ],
   "source": [
    "cle_itrm = \"000n00l0s0ih0ar0p0o0tcfe00\"\n",
    "sub_dechiffre(txt2_chiffre, cle_itrm)"
   ]
  },
  {
   "cell_type": "markdown",
   "metadata": {},
   "source": [
    "Une fois le message partiellement déchiffre, retrouver les dernières lettres devient plus facile.\n",
    "\n",
    "Ici nous pouvons remarquer que :\n",
    "\n",
    "    - 'C' donne 'D' une fois dechiffre : \"coce\" devient \"code\"\n",
    "    - 'Y' donne 'U' une fois dechiffre : \"yn\" devient \"un\"\n",
    "    - 'F' donne 'M' une fois dechiffre : \"fot\" devient \"mot\"\n",
    "    - 'M' donne 'G' une fois dechiffre : \"oriminal\" devient \"original\"\n",
    "\n",
    "ce qui nous donne l'alphabet de déchiffrage suivant : \"00dn0ml0s0ihgar0p0o0tcfeu0\".\n",
    "\n",
    "Bien qu'il ne soit pas complet il nous permet de déchiffrer la quasi-totalité du message. Seul la fin du message reste chiffrée \"lettres de a a a sont chiffrees\" nous ne pouvons donc pas savoir quelle seront les lettres chiffrées pour le prochain texte."
   ]
  },
  {
   "cell_type": "code",
   "execution_count": 70,
   "metadata": {},
   "outputs": [
    {
     "name": "stdout",
     "output_type": "stream",
     "text": [
      "Le message claire est: 'le prochain fichier est code par un mot de passe de taille inconnue et contient l'indice. les lettres du mot de passe permettent de decaler les lettres du message original modulo 26. seules les lettres de a a a sont chiffrees.'\n"
     ]
    }
   ],
   "source": [
    "cle = \"00dn0ml0s0ihgar0p0o0tcfeu0\"\n",
    "sub_dechiffre(txt2_chiffre, cle)"
   ]
  },
  {
   "cell_type": "markdown",
   "metadata": {},
   "source": [
    "## Troisème texte à décoder \n",
    "\n",
    "Grâce au texte précédent, nous savons que ce texte a été chiffré à l'aide d'un décalage des lettres le constituant. Ce décalage a été effectué en utilisant une clé de taille inconnue. Contrairement aux textes précédents il nous est impossible d'effectuer une analyse fréquentielle sur celui-ci. Les lettres ayant subi un décalage différent les unes des autres des telles analyses ne donneraient aucun résultat."
   ]
  },
  {
   "cell_type": "code",
   "execution_count": 72,
   "metadata": {},
   "outputs": [],
   "source": [
    "txt3_chiffre = \"dceuq e n'ehfp cg p'kyhhep uqfw cgiy citudm c gzudiq ni ezhd px c jhptv ep cggsht. kg hdtymdt xdzei gdx rzyq wir mvzxpw, cifcchdb znwd ccyw wy lkcsht, dp isgd uqfw wy ?\""
   ]
  },
  {
   "cell_type": "markdown",
   "metadata": {},
   "source": [
    "### Analyse"
   ]
  },
  {
   "cell_type": "markdown",
   "metadata": {},
   "source": [
    "La première étape est de trouver la taille de la clé utilisée pour chiffrer ce message. \n",
    "\n",
    "Pour ce faire nous allons supposer connaitre la taille de la clé, et ainsi nous allons couper le message en parcelles égales à la taille de la clé. Avec une clé de taille 3 nous couperions le message en sous message de taille 3. Pour chacun de ces sous-messages nous récupéreront chacune des lettres que nous stockerons dans un tableau / chaine de caractère correspondant à la lettre de la clé qui les a chiffré.\n",
    "\n",
    "Ce qui nous donnera 3 alphabets (pour une clé de taille 3) ayant été chiffré avec la même lettre, et ainsi nous pourrons appliquer une analyse de fréquence sur chacun de ces alphabets et ainsi trouver la lettre qui a permis ce décalage, tout comme pour le premier texte.\n",
    "\n",
    "Afin de trouver la taille de la clé nous allons répéter cette procédure pour différentes tailles jusqu'à avoir des analyses de fréquence qui semble correcte.\n"
   ]
  },
  {
   "cell_type": "code",
   "execution_count": 74,
   "metadata": {},
   "outputs": [],
   "source": [
    "# Crée les alphabets en fonction de la taille de la cle\n",
    "def split_chiffre(message_chiffre, taille_cle):\n",
    "    lettres_chiffre = [\"\"]*taille_cle\n",
    "    for i in range(len(message_chiffre)):\n",
    "        lettres_chiffre[i%taille_cle] += message_chiffre[i]\n",
    "    \n",
    "    return lettres_chiffre"
   ]
  },
  {
   "cell_type": "markdown",
   "metadata": {},
   "source": [
    "Ici avec une clé de déchiffrage de taille 2 nous pouvons voir que l'analyse fréquentielle n'est pas très convaincante. La lettre avec la plus haute fréquence pour le premier alphabet n'est que de 10% contre 16% pour les textes précédents et 13% pour le second alphabet.\n",
    "\n",
    "Nous pouvons en conclure que 2 n'est pas une bonne valeur "
   ]
  },
  {
   "cell_type": "code",
   "execution_count": 76,
   "metadata": {},
   "outputs": [
    {
     "data": {
      "text/plain": [
       "['deqenef gpkhe qwci iumcgui ieh xcjpve gst ghtmtxzigxry i vxw ichbzw cww kst pig qww ',\n",
       " \"cu  'hpc 'yhpuf gyctd  zdqn zdp  ht pcgh.k dyd de d zqwrmzp,cfcd ndcy ylch,d sduf y?\"]"
      ]
     },
     "execution_count": 76,
     "metadata": {},
     "output_type": "execute_result"
    }
   ],
   "source": [
    "lettres_chiffre = split_chiffre(txt3_chiffre, 2)\n",
    "lettres_chiffre"
   ]
  },
  {
   "cell_type": "code",
   "execution_count": 77,
   "metadata": {},
   "outputs": [
    {
     "data": {
      "text/plain": [
       "[[['i', 9.6],\n",
       "  ['w', 8.4],\n",
       "  ['e', 7.2],\n",
       "  ['g', 7.2],\n",
       "  ['c', 6.0],\n",
       "  ['h', 4.8],\n",
       "  ['x', 4.8],\n",
       "  ['t', 4.8],\n",
       "  ['q', 3.5999999999999996],\n",
       "  ['p', 3.5999999999999996]],\n",
       " [['d', 13.420000000000002],\n",
       "  ['c', 9.76],\n",
       "  ['y', 7.319999999999999],\n",
       "  ['h', 6.1],\n",
       "  ['p', 6.1],\n",
       "  ['z', 4.88],\n",
       "  ['u', 3.66],\n",
       "  ['f', 3.66],\n",
       "  ['g', 2.44],\n",
       "  ['t', 2.44]]]"
      ]
     },
     "execution_count": 77,
     "metadata": {},
     "output_type": "execute_result"
    }
   ],
   "source": [
    "frequence_lettres_chiffre = [frequence(i) for i in lettres_chiffre]\n",
    "frequence_lettres_chiffre"
   ]
  },
  {
   "cell_type": "markdown",
   "metadata": {},
   "source": [
    "Après plusieurs itérations la valeur donnant les meilleurs analyses fréquentielles est 4.\n",
    "\n",
    "Nous pouvons en conclure que 4 est la taille de la clé utilisé."
   ]
  },
  {
   "cell_type": "code",
   "execution_count": 80,
   "metadata": {},
   "outputs": [
    {
     "data": {
      "text/plain": [
       "['dqnfgkeqc ucu e cpegtgttzgr  x cbwcwktpgqw',\n",
       " \"c 'p ypfgcd dnzp tpg. y edzwmpcc dyyc, dfy\",\n",
       " 'eee ph wiimgiihxjv s hmxixyivwihz w s i w ',\n",
       " \"u hc'hu yt zq d h chkddd  qrz,fdnc lhdsu ?\"]"
      ]
     },
     "execution_count": 80,
     "metadata": {},
     "output_type": "execute_result"
    }
   ],
   "source": [
    "lettres_chiffre = split_chiffre(txt3_chiffre, 4)\n",
    "lettres_chiffre"
   ]
  },
  {
   "cell_type": "code",
   "execution_count": 81,
   "metadata": {},
   "outputs": [
    {
     "data": {
      "text/plain": [
       "[[['g', 11.899999999999999],\n",
       "  ['c', 11.899999999999999],\n",
       "  ['t', 9.52],\n",
       "  ['q', 7.14],\n",
       "  ['e', 7.14],\n",
       "  ['w', 7.14],\n",
       "  ['k', 4.76],\n",
       "  ['u', 4.76],\n",
       "  ['p', 4.76],\n",
       "  ['d', 2.38]],\n",
       " [['c', 12.2],\n",
       "  ['p', 12.2],\n",
       "  ['y', 12.2],\n",
       "  ['d', 12.2],\n",
       "  ['f', 4.88],\n",
       "  ['g', 4.88],\n",
       "  ['z', 4.88],\n",
       "  ['n', 2.44],\n",
       "  ['t', 2.44],\n",
       "  ['e', 2.44]],\n",
       " [['i', 19.52],\n",
       "  ['h', 9.76],\n",
       "  ['w', 9.76],\n",
       "  ['e', 7.32],\n",
       "  ['x', 7.32],\n",
       "  ['m', 4.88],\n",
       "  ['v', 4.88],\n",
       "  ['s', 4.88],\n",
       "  ['p', 2.44],\n",
       "  ['g', 2.44]],\n",
       " [['d', 14.639999999999999],\n",
       "  ['h', 12.2],\n",
       "  ['u', 7.32],\n",
       "  ['c', 7.32],\n",
       "  ['z', 4.88],\n",
       "  ['q', 4.88],\n",
       "  ['y', 2.44],\n",
       "  ['t', 2.44],\n",
       "  ['k', 2.44],\n",
       "  ['r', 2.44]]]"
      ]
     },
     "execution_count": 81,
     "metadata": {},
     "output_type": "execute_result"
    }
   ],
   "source": [
    "frequence_lettres_chiffre = [frequence(i) for i in lettres_chiffre]\n",
    "frequence_lettres_chiffre"
   ]
  },
  {
   "cell_type": "markdown",
   "metadata": {},
   "source": [
    "Pour le premier alphabet les lettres avec la plus haute fréquence sont 'G' at 'C', Nous pouvons donc supposer que l'une des deux correspond à la lettre 'E'. Pour l'instant supposons que ce soit 'G'.De plus la lettre 'N' chiffré par la première lettre de la clé apparait dans le message devant une apostrophe, nous pouvons donc supposer qu'il s'agit d'un 'L'. \n",
    "\n",
    "Pour le second alphabet c'est la lettre 'C' qui à la plus haute fréquence il pourrait s'agir d'un 'E'.\n",
    "\n",
    "Pour le troisième alphabet, nous avons un indice fort. La lettre 'E' quand chiffré par la troisème lettre de la clé est seul dans le message, et dans la langue française la seul lettre pouvant se retrouver seul, est la lettre 'A' en tant que verbe \"avoir\" ou 'à'. Nous pouvons donc facilement supposer que la troisème lettre de la clé a permis de chiffrer la lettre 'A' en 'E'.\n",
    "\n",
    "Pour le quatrième alphabet la lettre 'D' est celle qui a la plus haute fréquence il pourrait s'agir d'un 'E'.\n",
    "\n",
    "\n",
    "Maintenant que nous avons une première hypothèse il nous faut la tester en mettant en place une première clé de déchiffrage."
   ]
  },
  {
   "cell_type": "code",
   "execution_count": 106,
   "metadata": {},
   "outputs": [
    {
     "name": "stdout",
     "output_type": "stream",
     "text": [
      "----------- Premiere lettre de la cle -----------\n",
      "décalage de g à e : 24 | lettre : y\n",
      "décalage de n à l : 24 | lettre : y\n",
      "\n",
      "----------- Deuxieme lettre de la cle -----------\n",
      "décalage de c à e : 2 | lettre : c\n",
      "\n",
      "----------- Troisieme lettre de la cle -----------\n",
      "décalage de e à a : 22 | lettre : w\n",
      "\n",
      "----------- Quatrieme lettre de la cle -----------\n",
      "décalage de d à e : 1 | lettre : b\n"
     ]
    }
   ],
   "source": [
    "# première lettre de la clé\n",
    "print(\"----------- Premiere lettre de la cle -----------\")\n",
    "\n",
    "dclg = calcul_decalage('g','e');\n",
    "print(\"décalage de g à e : \" + str(dclg) + \" | lettre : \" + lettre(dclg))\n",
    "\n",
    "dclg = calcul_decalage('n','l');\n",
    "print(\"décalage de n à l : \" + str(dclg) + \" | lettre : \" + lettre(dclg))\n",
    "\n",
    "\n",
    "\n",
    "# Deuxieme lettre de la clé\n",
    "print(\"\\n----------- Deuxieme lettre de la cle -----------\")\n",
    "\n",
    "dclg = calcul_decalage('c','e');\n",
    "print(\"décalage de c à e : \" + str(dclg) + \" | lettre : \" + lettre(dclg))\n",
    "\n",
    "\n",
    "\n",
    "# Troisieme lettre de la clé\n",
    "print(\"\\n----------- Troisieme lettre de la cle -----------\")\n",
    "\n",
    "dclg = calcul_decalage('e','a');\n",
    "print(\"décalage de e à a : \" + str(dclg) + \" | lettre : \" + lettre(dclg))\n",
    "\n",
    "\n",
    "\n",
    "# Quatrieme lettre de la clé\n",
    "print(\"\\n----------- Quatrieme lettre de la cle -----------\")\n",
    "\n",
    "dclg = calcul_decalage('d','e');\n",
    "print(\"décalage de d à e : \" + str(dclg) + \" | lettre : \" + lettre(dclg))\n",
    "\n"
   ]
  },
  {
   "cell_type": "markdown",
   "metadata": {},
   "source": [
    "Notre clé serait donc \"YCWB\". Cependant comme nous pouvons le voir ci-dessous il semblerait que la deuxième lettre de la clé ne soit pas correcte, il nous faut la corriger. Maintenant que nous avons partiellement déchiffré le message, corrigé la clé sera facile. "
   ]
  },
  {
   "cell_type": "code",
   "execution_count": 107,
   "metadata": {},
   "outputs": [
    {
     "name": "stdout",
     "output_type": "stream",
     "text": [
      "Le message claire est: 'beavo a l'aidr de l'iadicr vohs aiez eeusfi a casfer pe cbde rt a finvr cr deioir. le deraier texge eft pbur yes oravrs, eegaedez vouf daas ua mieoir, en etef vohs ua ?'\n"
     ]
    }
   ],
   "source": [
    "dechiffre(txt3_chiffre, 'ycwb')"
   ]
  },
  {
   "cell_type": "markdown",
   "metadata": {},
   "source": [
    "Comme nous pouvons le voire ci-dessus le mot \"beavo\" qui devrait être \"bravo\" porte une erreur sur sur la deuxième lettre. Le 'E' qui avant déchiffrage était 'C' doit donner 'R' une fois déchiffré.\n",
    "\n",
    "la deuxième lettre de la clé est donc 'P', ce qui nous donne \"YPWB\"."
   ]
  },
  {
   "cell_type": "code",
   "execution_count": 108,
   "metadata": {},
   "outputs": [
    {
     "name": "stdout",
     "output_type": "stream",
     "text": [
      "\n",
      "----------- Deuxieme lettre de la cle -----------\n",
      "décalage de c à e : 15 | lettre : p\n"
     ]
    }
   ],
   "source": [
    "# Deuxieme lettre de la clé\n",
    "print(\"\\n----------- Deuxieme lettre de la cle -----------\")\n",
    "\n",
    "dclg = calcul_decalage('c','r');\n",
    "print(\"décalage de c à e : \" + str(dclg) + \" | lettre : \" + lettre(dclg))"
   ]
  },
  {
   "cell_type": "code",
   "execution_count": 109,
   "metadata": {},
   "outputs": [
    {
     "name": "stdout",
     "output_type": "stream",
     "text": [
      "Le message claire est: 'bravo a l'aide de l'indice vous avez reussi a casser ce code et a finir ce devoir. le dernier texte est pour les braves, regardez vous dans un miroir, en etes vous un ?'\n"
     ]
    }
   ],
   "source": [
    "dechiffre(txt3_chiffre, 'ypwb')"
   ]
  },
  {
   "cell_type": "code",
   "execution_count": null,
   "metadata": {},
   "outputs": [],
   "source": []
  }
 ],
 "metadata": {
  "kernelspec": {
   "display_name": "Python 3",
   "language": "python",
   "name": "python3"
  },
  "language_info": {
   "codemirror_mode": {
    "name": "ipython",
    "version": 3
   },
   "file_extension": ".py",
   "mimetype": "text/x-python",
   "name": "python",
   "nbconvert_exporter": "python",
   "pygments_lexer": "ipython3",
   "version": "3.8.3"
  }
 },
 "nbformat": 4,
 "nbformat_minor": 4
}
